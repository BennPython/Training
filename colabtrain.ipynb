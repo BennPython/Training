{
  "cells": [
    {
      "cell_type": "markdown",
      "metadata": {
        "id": "view-in-github",
        "colab_type": "text"
      },
      "source": [
        "<a href=\"https://colab.research.google.com/github/BennPython/Training/blob/main/colabtrain.ipynb\" target=\"_parent\"><img src=\"https://colab.research.google.com/assets/colab-badge.svg\" alt=\"Open In Colab\"/></a>"
      ]
    },
    {
      "cell_type": "code",
      "source": [
        "bike_price = 11000\n",
        "if bike_price < 6000:\n",
        "  print (\"its a cheap bike\")\n",
        "elif bike_price >= 6000 and bike_price < 10000:\n",
        "  print (\"its a moderate price bike\")\n",
        "elif bike_price >= 10000:\n",
        "  print (\"Its fucking expensive\")\n"
      ],
      "metadata": {
        "id": "WrJfcsBlWt1R",
        "outputId": "094d40db-6c05-492a-ffe2-9f44c3b033a1",
        "colab": {
          "base_uri": "https://localhost:8080/"
        }
      },
      "execution_count": 4,
      "outputs": [
        {
          "output_type": "stream",
          "name": "stdout",
          "text": [
            "Its fucking expensive\n"
          ]
        }
      ]
    }
  ],
  "metadata": {
    "colab": {
      "name": "Welcome to Colaboratory",
      "toc_visible": true,
      "provenance": [],
      "include_colab_link": true
    },
    "kernelspec": {
      "display_name": "Python 3",
      "name": "python3"
    }
  },
  "nbformat": 4,
  "nbformat_minor": 0
}