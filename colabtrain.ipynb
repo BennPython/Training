a = ("John", "Charles", "Mike")
b = ("Manager", "Supervisor", "Engineer")

print a
print b

print "----   ZIP   ----"
x = zip(a, b)
print x

city = 'Los Angeles'
print city.find('x')


print"---   dictionary {}    ---"
fruit_qty = {}
fruit_qty ['banana'] = 50
fruit_qty ['apple'] = 78
fruit_qty ['apricot'] = 40
print fruit_qty
fruit_qty ['orange'] = 70
fruit_qty ['avocado'] = 30
print fruit_qty
print fruit_qty ['apricot']
set_int = {1,2,3,4,5,67,5,4,3,21}
print set_int
set_int.add (9.5)
print set_int
teachers_set ={'mike', 'steve', 'hunter'}
